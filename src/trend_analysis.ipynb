{
 "cells": [
  {
   "cell_type": "code",
   "execution_count": 1,
   "id": "34db85cb",
   "metadata": {},
   "outputs": [],
   "source": [
    "import numpy as np\n",
    "import pandas as pd\n",
    "from math import sqrt\n",
    "from sklearn.preprocessing import OneHotEncoder\n",
    "from sklearn.model_selection import train_test_split\n",
    "from sklearn.preprocessing import LabelEncoder\n",
    "from sklearn.ensemble import RandomForestRegressor\n",
    "from sklearn.model_selection import train_test_split\n",
    "from sklearn.metrics import mean_squared_error, mean_absolute_error"
   ]
  },
  {
   "cell_type": "markdown",
   "id": "600d2019",
   "metadata": {},
   "source": [
    "# Dummy model"
   ]
  },
  {
   "cell_type": "markdown",
   "id": "5843802d",
   "metadata": {},
   "source": [
    "Load and preprocess data"
   ]
  },
  {
   "cell_type": "code",
   "execution_count": 2,
   "id": "ca889077",
   "metadata": {},
   "outputs": [],
   "source": [
    "df = pd.read_csv(\"../data/genz_fashion_cleaned.csv\")\n",
    "\n",
    "# Convert date and get year/month\n",
    "df['date'] = pd.to_datetime(df['date'], errors='coerce')\n",
    "df['year'] = df['date'].dt.year\n",
    "df['month'] = df['date'].dt.month\n",
    "\n",
    "# Season\n",
    "def get_season(month):\n",
    "    if month in [12,1,2]: return 'Winter'\n",
    "    elif month in [3,4,5]: return 'Spring'\n",
    "    elif month in [6,7,8]: return 'Summer'\n",
    "    else: return 'Fall'\n",
    "\n",
    "df['season'] = df['month'].apply(get_season)\n",
    "\n",
    "# Normalize colours\n",
    "df['color'] = df['color'].str.lower().replace({\n",
    "    'neutral': 'beige',\n",
    "    'multi': 'multicolor',\n",
    "    'print': 'patterned'\n",
    "})"
   ]
  },
  {
   "cell_type": "markdown",
   "id": "a2c90534",
   "metadata": {},
   "source": [
    "Aggregate counts"
   ]
  },
  {
   "cell_type": "code",
   "execution_count": 3,
   "id": "e2dd73ce",
   "metadata": {},
   "outputs": [],
   "source": [
    "trend = df.groupby(['year', 'season', 'color'])['addCount'].sum().reset_index()\n",
    "trend = trend.sort_values(['color', 'year', 'season'])"
   ]
  },
  {
   "cell_type": "markdown",
   "id": "4ba3d7a7",
   "metadata": {},
   "source": [
    "Lag features"
   ]
  },
  {
   "cell_type": "code",
   "execution_count": 4,
   "id": "0abb5930",
   "metadata": {},
   "outputs": [],
   "source": [
    "trend['prev_addCount'] = trend.groupby('color')['addCount'].shift(1)\n",
    "trend['prev2_addCount'] = trend.groupby('color')['addCount'].shift(2)\n",
    "trend['avg_prev2'] = trend[['prev_addCount','prev2_addCount']].mean(axis=1)\n",
    "\n",
    "trend = trend.dropna()"
   ]
  },
  {
   "cell_type": "markdown",
   "id": "a0ff90d4",
   "metadata": {},
   "source": [
    "Encode categorical features"
   ]
  },
  {
   "cell_type": "code",
   "execution_count": 5,
   "id": "525f2b51",
   "metadata": {},
   "outputs": [],
   "source": [
    "le_color = LabelEncoder()\n",
    "le_season = LabelEncoder()\n",
    "\n",
    "trend['color_enc'] = le_color.fit_transform(trend['color'])\n",
    "trend['season_enc'] = le_season.fit_transform(trend['season'])"
   ]
  },
  {
   "cell_type": "markdown",
   "id": "2cbbb1d5",
   "metadata": {},
   "source": [
    "Compute relative popularity"
   ]
  },
  {
   "cell_type": "code",
   "execution_count": 6,
   "id": "65141bb3",
   "metadata": {},
   "outputs": [],
   "source": [
    "trend['season_total'] = trend.groupby(['year','season'])['addCount'].transform('sum')\n",
    "trend['relative_popularity'] = trend['addCount'] / trend['season_total']\n",
    "\n",
    "# Add average seasonal popularity per color\n",
    "trend['avg_season_popularity'] = trend.groupby(['color','season'])['relative_popularity'].transform('mean')"
   ]
  },
  {
   "cell_type": "markdown",
   "id": "4d825235",
   "metadata": {},
   "source": [
    "Prepare features & target"
   ]
  },
  {
   "cell_type": "code",
   "execution_count": 7,
   "id": "d95d5636",
   "metadata": {},
   "outputs": [],
   "source": [
    "features = ['year','season_enc','color_enc','prev_addCount','prev2_addCount','avg_prev2','avg_season_popularity']\n",
    "X = trend[features]\n",
    "y = trend['relative_popularity']\n",
    "\n",
    "X_train, X_test, y_train, y_test = train_test_split(X, y, test_size=0.2, shuffle=False)"
   ]
  },
  {
   "cell_type": "markdown",
   "id": "64070c72",
   "metadata": {},
   "source": [
    "Dummy Regression model"
   ]
  },
  {
   "cell_type": "code",
   "execution_count": 8,
   "id": "fa749db3",
   "metadata": {},
   "outputs": [
    {
     "name": "stdout",
     "output_type": "stream",
     "text": [
      "🪄 DummyRegressor — RMSE: 0.0623, MAE: 0.0588\n"
     ]
    }
   ],
   "source": [
    "from sklearn.dummy import DummyRegressor\n",
    "\n",
    "# Dummy model that predicts the mean relative popularity\n",
    "dummy_model = DummyRegressor(strategy=\"mean\")\n",
    "dummy_model.fit(X_train, y_train)\n",
    "\n",
    "# Predict with dummy model\n",
    "y_pred_dummy = dummy_model.predict(X_test)\n",
    "\n",
    "# Evaluate dummy performance\n",
    "rmse_dummy = sqrt(mean_squared_error(y_test, y_pred_dummy))\n",
    "mae_dummy = mean_absolute_error(y_test, y_pred_dummy)\n",
    "\n",
    "print(f\"🪄 DummyRegressor — RMSE: {rmse_dummy:.4f}, MAE: {mae_dummy:.4f}\")"
   ]
  },
  {
   "cell_type": "markdown",
   "id": "6502fb81",
   "metadata": {},
   "source": [
    "Dummy Random Forest"
   ]
  },
  {
   "cell_type": "code",
   "execution_count": 9,
   "id": "177c3627",
   "metadata": {},
   "outputs": [
    {
     "name": "stdout",
     "output_type": "stream",
     "text": [
      "✅ Model trained — RMSE: 0.0329, MAE: 0.0215\n"
     ]
    }
   ],
   "source": [
    "model = RandomForestRegressor(n_estimators=300, max_depth=10, random_state=42)\n",
    "model.fit(X_train, y_train)\n",
    "\n",
    "y_pred = model.predict(X_test)\n",
    "rmse = sqrt(mean_squared_error(y_test, y_pred))\n",
    "mae = mean_absolute_error(y_test, y_pred)\n",
    "print(f\"✅ Model trained — RMSE: {rmse:.4f}, MAE: {mae:.4f}\")"
   ]
  },
  {
   "cell_type": "markdown",
   "id": "f99a8590",
   "metadata": {},
   "source": [
    "Forecast next year for all seasons"
   ]
  },
  {
   "cell_type": "code",
   "execution_count": 10,
   "id": "faa0ab91",
   "metadata": {},
   "outputs": [],
   "source": [
    "latest_year = trend['year'].max()\n",
    "season_order = ['Spring','Summer','Fall','Winter']\n",
    "\n",
    "future_rows = pd.DataFrame([\n",
    "    (latest_year+1, season, color) \n",
    "    for season in season_order \n",
    "    for color in trend['color'].unique()\n",
    "], columns=['year','season','color'])\n",
    "\n",
    "# Lag features from last known counts\n",
    "last_counts = trend.groupby('color')['addCount'].last()\n",
    "second_last_counts = trend.groupby('color')['addCount'].nth(-2)\n",
    "\n",
    "future_rows['prev_addCount'] = future_rows['color'].map(last_counts)\n",
    "future_rows['prev2_addCount'] = future_rows['color'].map(second_last_counts)\n",
    "future_rows['avg_prev2'] = (future_rows['prev_addCount'] + future_rows['prev2_addCount'])/2\n",
    "\n",
    "# Encode categories\n",
    "future_rows['color_enc'] = le_color.transform(future_rows['color'])\n",
    "future_rows['season_enc'] = le_season.transform(future_rows['season'])\n",
    "\n",
    "# Avg seasonal popularity\n",
    "future_rows['avg_season_popularity'] = future_rows.groupby(['color','season'])['prev_addCount'].transform('mean')\n",
    "\n",
    "# Predict\n",
    "X_future = future_rows[features]\n",
    "future_rows['predicted_popularity'] = model.predict(X_future)\n",
    "\n",
    "# Normalize per season\n",
    "future_rows['predicted_popularity'] = future_rows.groupby('season')['predicted_popularity'].transform(lambda x: x / x.sum())\n"
   ]
  },
  {
   "cell_type": "markdown",
   "id": "be1a7ded",
   "metadata": {},
   "source": [
    "Compute top-5 accuracy"
   ]
  },
  {
   "cell_type": "code",
   "execution_count": 11,
   "id": "e6d527d0",
   "metadata": {},
   "outputs": [
    {
     "name": "stdout",
     "output_type": "stream",
     "text": [
      "Fall top-5 accuracy: 0.00\n",
      "  Actual top 5: ['gold', 'black', 'red', 'white', 'green']\n",
      "  Predicted top 5: ['grey', 'orange', 'purple', 'yellow', 'silver']\n",
      "\n",
      "Spring top-5 accuracy: 0.20\n",
      "  Actual top 5: ['orange', 'black', 'blue', 'pink', 'red']\n",
      "  Predicted top 5: ['grey', 'orange', 'purple', 'yellow', 'white']\n",
      "\n",
      "Summer top-5 accuracy: 0.20\n",
      "  Actual top 5: ['black', 'beige', 'blue', 'brown', 'white']\n",
      "  Predicted top 5: ['grey', 'orange', 'purple', 'yellow', 'white']\n",
      "\n",
      "Winter top-5 accuracy: 0.00\n",
      "  Actual top 5: ['black', 'beige', 'blue', 'pink', 'red']\n",
      "  Predicted top 5: ['grey', 'orange', 'purple', 'yellow', 'white']\n",
      "\n"
     ]
    },
    {
     "name": "stderr",
     "output_type": "stream",
     "text": [
      "/var/folders/8p/vltrsdv57c11_cfd7mtc48dw0000gn/T/ipykernel_72457/160871676.py:2: FutureWarning: DataFrameGroupBy.apply operated on the grouping columns. This behavior is deprecated, and in a future version of pandas the grouping columns will be excluded from the operation. Either pass `include_groups=False` to exclude the groupings or explicitly select the grouping columns after groupby to silence this warning.\n",
      "  actual_top = trend.groupby('season').apply(lambda x: list(pd.unique(x.sort_values('relative_popularity', ascending=False)['color']))[:5]).to_dict()\n",
      "/var/folders/8p/vltrsdv57c11_cfd7mtc48dw0000gn/T/ipykernel_72457/160871676.py:5: FutureWarning: DataFrameGroupBy.apply operated on the grouping columns. This behavior is deprecated, and in a future version of pandas the grouping columns will be excluded from the operation. Either pass `include_groups=False` to exclude the groupings or explicitly select the grouping columns after groupby to silence this warning.\n",
      "  predicted_top = future_rows.groupby('season').apply(lambda x: list(pd.unique(x.sort_values('predicted_popularity', ascending=False)['color']))[:5]).to_dict()\n"
     ]
    }
   ],
   "source": [
    "# Actual top-5 colors per season\n",
    "actual_top = trend.groupby('season').apply(lambda x: list(pd.unique(x.sort_values('relative_popularity', ascending=False)['color']))[:5]).to_dict()\n",
    "\n",
    "# Predicted top-5 colors per season (unique colors only)\n",
    "predicted_top = future_rows.groupby('season').apply(lambda x: list(pd.unique(x.sort_values('predicted_popularity', ascending=False)['color']))[:5]).to_dict()\n",
    "\n",
    "for season in actual_top.keys():\n",
    "    actual_set = set(actual_top[season])\n",
    "    predicted_set = set(predicted_top.get(season, []))\n",
    "    intersection = actual_set & predicted_set\n",
    "    accuracy = len(intersection)/len(actual_set) if actual_set else 0\n",
    "    print(f\"{season} top-5 accuracy: {accuracy:.2f}\")\n",
    "    print(f\"  Actual top 5: {actual_top[season]}\")\n",
    "    print(f\"  Predicted top 5: {predicted_top.get(season, [])}\\n\")\n"
   ]
  },
  {
   "cell_type": "code",
   "execution_count": 12,
   "id": "1fd3ed1a",
   "metadata": {},
   "outputs": [
    {
     "name": "stdout",
     "output_type": "stream",
     "text": [
      "🎨 Top 5 Colors for Spring 2023:\n"
     ]
    },
    {
     "data": {
      "text/html": [
       "<div>\n",
       "<style scoped>\n",
       "    .dataframe tbody tr th:only-of-type {\n",
       "        vertical-align: middle;\n",
       "    }\n",
       "\n",
       "    .dataframe tbody tr th {\n",
       "        vertical-align: top;\n",
       "    }\n",
       "\n",
       "    .dataframe thead th {\n",
       "        text-align: right;\n",
       "    }\n",
       "</style>\n",
       "<table border=\"1\" class=\"dataframe\">\n",
       "  <thead>\n",
       "    <tr style=\"text-align: right;\">\n",
       "      <th></th>\n",
       "      <th>color</th>\n",
       "      <th>predicted_popularity</th>\n",
       "    </tr>\n",
       "  </thead>\n",
       "  <tbody>\n",
       "    <tr>\n",
       "      <th>6</th>\n",
       "      <td>grey</td>\n",
       "      <td>0.062958</td>\n",
       "    </tr>\n",
       "    <tr>\n",
       "      <th>8</th>\n",
       "      <td>orange</td>\n",
       "      <td>0.062728</td>\n",
       "    </tr>\n",
       "    <tr>\n",
       "      <th>11</th>\n",
       "      <td>purple</td>\n",
       "      <td>0.062263</td>\n",
       "    </tr>\n",
       "    <tr>\n",
       "      <th>16</th>\n",
       "      <td>yellow</td>\n",
       "      <td>0.062263</td>\n",
       "    </tr>\n",
       "    <tr>\n",
       "      <th>15</th>\n",
       "      <td>white</td>\n",
       "      <td>0.061342</td>\n",
       "    </tr>\n",
       "  </tbody>\n",
       "</table>\n",
       "</div>"
      ],
      "text/plain": [
       "     color  predicted_popularity\n",
       "6     grey              0.062958\n",
       "8   orange              0.062728\n",
       "11  purple              0.062263\n",
       "16  yellow              0.062263\n",
       "15   white              0.061342"
      ]
     },
     "metadata": {},
     "output_type": "display_data"
    },
    {
     "name": "stdout",
     "output_type": "stream",
     "text": [
      "🎨 Top 5 Colors for Summer 2023:\n"
     ]
    },
    {
     "data": {
      "text/html": [
       "<div>\n",
       "<style scoped>\n",
       "    .dataframe tbody tr th:only-of-type {\n",
       "        vertical-align: middle;\n",
       "    }\n",
       "\n",
       "    .dataframe tbody tr th {\n",
       "        vertical-align: top;\n",
       "    }\n",
       "\n",
       "    .dataframe thead th {\n",
       "        text-align: right;\n",
       "    }\n",
       "</style>\n",
       "<table border=\"1\" class=\"dataframe\">\n",
       "  <thead>\n",
       "    <tr style=\"text-align: right;\">\n",
       "      <th></th>\n",
       "      <th>color</th>\n",
       "      <th>predicted_popularity</th>\n",
       "    </tr>\n",
       "  </thead>\n",
       "  <tbody>\n",
       "    <tr>\n",
       "      <th>23</th>\n",
       "      <td>grey</td>\n",
       "      <td>0.063004</td>\n",
       "    </tr>\n",
       "    <tr>\n",
       "      <th>25</th>\n",
       "      <td>orange</td>\n",
       "      <td>0.062774</td>\n",
       "    </tr>\n",
       "    <tr>\n",
       "      <th>28</th>\n",
       "      <td>purple</td>\n",
       "      <td>0.062257</td>\n",
       "    </tr>\n",
       "    <tr>\n",
       "      <th>33</th>\n",
       "      <td>yellow</td>\n",
       "      <td>0.062257</td>\n",
       "    </tr>\n",
       "    <tr>\n",
       "      <th>32</th>\n",
       "      <td>white</td>\n",
       "      <td>0.061344</td>\n",
       "    </tr>\n",
       "  </tbody>\n",
       "</table>\n",
       "</div>"
      ],
      "text/plain": [
       "     color  predicted_popularity\n",
       "23    grey              0.063004\n",
       "25  orange              0.062774\n",
       "28  purple              0.062257\n",
       "33  yellow              0.062257\n",
       "32   white              0.061344"
      ]
     },
     "metadata": {},
     "output_type": "display_data"
    },
    {
     "name": "stdout",
     "output_type": "stream",
     "text": [
      "🎨 Top 5 Colors for Fall 2023:\n"
     ]
    },
    {
     "data": {
      "text/html": [
       "<div>\n",
       "<style scoped>\n",
       "    .dataframe tbody tr th:only-of-type {\n",
       "        vertical-align: middle;\n",
       "    }\n",
       "\n",
       "    .dataframe tbody tr th {\n",
       "        vertical-align: top;\n",
       "    }\n",
       "\n",
       "    .dataframe thead th {\n",
       "        text-align: right;\n",
       "    }\n",
       "</style>\n",
       "<table border=\"1\" class=\"dataframe\">\n",
       "  <thead>\n",
       "    <tr style=\"text-align: right;\">\n",
       "      <th></th>\n",
       "      <th>color</th>\n",
       "      <th>predicted_popularity</th>\n",
       "    </tr>\n",
       "  </thead>\n",
       "  <tbody>\n",
       "    <tr>\n",
       "      <th>40</th>\n",
       "      <td>grey</td>\n",
       "      <td>0.063150</td>\n",
       "    </tr>\n",
       "    <tr>\n",
       "      <th>42</th>\n",
       "      <td>orange</td>\n",
       "      <td>0.062925</td>\n",
       "    </tr>\n",
       "    <tr>\n",
       "      <th>45</th>\n",
       "      <td>purple</td>\n",
       "      <td>0.061894</td>\n",
       "    </tr>\n",
       "    <tr>\n",
       "      <th>50</th>\n",
       "      <td>yellow</td>\n",
       "      <td>0.061894</td>\n",
       "    </tr>\n",
       "    <tr>\n",
       "      <th>47</th>\n",
       "      <td>silver</td>\n",
       "      <td>0.061476</td>\n",
       "    </tr>\n",
       "  </tbody>\n",
       "</table>\n",
       "</div>"
      ],
      "text/plain": [
       "     color  predicted_popularity\n",
       "40    grey              0.063150\n",
       "42  orange              0.062925\n",
       "45  purple              0.061894\n",
       "50  yellow              0.061894\n",
       "47  silver              0.061476"
      ]
     },
     "metadata": {},
     "output_type": "display_data"
    },
    {
     "name": "stdout",
     "output_type": "stream",
     "text": [
      "🎨 Top 5 Colors for Winter 2023:\n"
     ]
    },
    {
     "data": {
      "text/html": [
       "<div>\n",
       "<style scoped>\n",
       "    .dataframe tbody tr th:only-of-type {\n",
       "        vertical-align: middle;\n",
       "    }\n",
       "\n",
       "    .dataframe tbody tr th {\n",
       "        vertical-align: top;\n",
       "    }\n",
       "\n",
       "    .dataframe thead th {\n",
       "        text-align: right;\n",
       "    }\n",
       "</style>\n",
       "<table border=\"1\" class=\"dataframe\">\n",
       "  <thead>\n",
       "    <tr style=\"text-align: right;\">\n",
       "      <th></th>\n",
       "      <th>color</th>\n",
       "      <th>predicted_popularity</th>\n",
       "    </tr>\n",
       "  </thead>\n",
       "  <tbody>\n",
       "    <tr>\n",
       "      <th>57</th>\n",
       "      <td>grey</td>\n",
       "      <td>0.062929</td>\n",
       "    </tr>\n",
       "    <tr>\n",
       "      <th>59</th>\n",
       "      <td>orange</td>\n",
       "      <td>0.062702</td>\n",
       "    </tr>\n",
       "    <tr>\n",
       "      <th>62</th>\n",
       "      <td>purple</td>\n",
       "      <td>0.062169</td>\n",
       "    </tr>\n",
       "    <tr>\n",
       "      <th>67</th>\n",
       "      <td>yellow</td>\n",
       "      <td>0.062169</td>\n",
       "    </tr>\n",
       "    <tr>\n",
       "      <th>66</th>\n",
       "      <td>white</td>\n",
       "      <td>0.061322</td>\n",
       "    </tr>\n",
       "  </tbody>\n",
       "</table>\n",
       "</div>"
      ],
      "text/plain": [
       "     color  predicted_popularity\n",
       "57    grey              0.062929\n",
       "59  orange              0.062702\n",
       "62  purple              0.062169\n",
       "67  yellow              0.062169\n",
       "66   white              0.061322"
      ]
     },
     "metadata": {},
     "output_type": "display_data"
    }
   ],
   "source": [
    "for season in season_order:\n",
    "    print(f\"🎨 Top 5 Colors for {season} {latest_year+1}:\")\n",
    "    display(future_rows[future_rows['season']==season].sort_values('predicted_popularity', ascending=False)[['color','predicted_popularity']].head(5))\n"
   ]
  }
 ],
 "metadata": {
  "kernelspec": {
   "display_name": "cpsc330",
   "language": "python",
   "name": "python3"
  },
  "language_info": {
   "codemirror_mode": {
    "name": "ipython",
    "version": 3
   },
   "file_extension": ".py",
   "mimetype": "text/x-python",
   "name": "python",
   "nbconvert_exporter": "python",
   "pygments_lexer": "ipython3",
   "version": "3.13.5"
  }
 },
 "nbformat": 4,
 "nbformat_minor": 5
}
